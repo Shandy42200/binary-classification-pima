{
  "nbformat": 4,
  "nbformat_minor": 0,
  "metadata": {
    "colab": {
      "provenance": [],
      "include_colab_link": true
    },
    "kernelspec": {
      "name": "python3",
      "display_name": "Python 3"
    },
    "language_info": {
      "name": "python"
    }
  },
  "cells": [
    {
      "cell_type": "markdown",
      "metadata": {
        "id": "view-in-github",
        "colab_type": "text"
      },
      "source": [
        "<a href=\"https://colab.research.google.com/github/Shandy42200/binary-classification-pima/blob/main/Villaroz_ANN.ipynb\" target=\"_parent\"><img src=\"https://colab.research.google.com/assets/colab-badge.svg\" alt=\"Open In Colab\"/></a>"
      ]
    },
    {
      "cell_type": "markdown",
      "source": [
        "# Shandy A. Villaroz\n",
        "# BSIT-4R5\n"
      ],
      "metadata": {
        "id": "3eCdLBv5SkQs"
      }
    },
    {
      "cell_type": "markdown",
      "source": [
        "Need to run the code using ANN for Binary classification, the same dataset, and screen capture the code and output of each task.\n",
        "\n",
        "1) Load the dataset (5points)\n",
        "\n",
        "2) Define the model with additional hidden layer of 4, activation = relu (10 points)\n",
        "\n",
        "3) Compile the model (5points)\n",
        "\n",
        "4) fit the model using 100 epochs and batch size = 20 (10points)\n",
        "\n",
        "5) evaluate the model (5points)\n",
        "\n",
        "6) Plot the accuracy and loss of the model (10points)\n",
        "\n",
        "Save and upload as a pdf file."
      ],
      "metadata": {
        "id": "f7L9oJ9Hq0T4"
      }
    },
    {
      "cell_type": "code",
      "source": [
        "# !pip install tensorflow keras\n",
        "# uncomment line above if keras and tensorflow is not installed on your machine/colab"
      ],
      "metadata": {
        "id": "_cJB6FDNrt_R"
      },
      "execution_count": 4,
      "outputs": []
    },
    {
      "cell_type": "code",
      "source": [
        "# import the required libraries\n",
        "import pandas as pd\n",
        "import matplotlib.pyplot as plt\n",
        "from tensorflow.keras.models import Sequential\n",
        "from tensorflow.keras.layers import Dense, Activation"
      ],
      "metadata": {
        "id": "8QnIizZGrk9N"
      },
      "execution_count": 5,
      "outputs": []
    },
    {
      "cell_type": "markdown",
      "source": [
        "## 1) Load the dataset"
      ],
      "metadata": {
        "id": "W1oB-3yEq5Cj"
      }
    },
    {
      "cell_type": "code",
      "source": [
        "FILE_NAME = '/content/pima-indians-diabetes.csv'\n",
        "dataset = pd.read_csv(FILE_NAME)"
      ],
      "metadata": {
        "id": "sfv0ZhP6qkbk"
      },
      "execution_count": null,
      "outputs": []
    },
    {
      "cell_type": "code",
      "source": [
        "# split the dataset\n",
        "dataset2 = dataset.values\n",
        "X = dataset2[:,0:8]\n",
        "y = dataset2[:,8]"
      ],
      "metadata": {
        "id": "6MYCZKUKs7Vm"
      },
      "execution_count": 7,
      "outputs": []
    },
    {
      "cell_type": "markdown",
      "source": [
        "## 2) Define the model with additional hidden layer of 4, activation = relu"
      ],
      "metadata": {
        "id": "3uiUE-nVq9oo"
      }
    },
    {
      "cell_type": "code",
      "source": [
        "model = Sequential()\n",
        "model.add(Dense(16, input_dim=8, activation='relu'))\n",
        "model.add(Dense(8, activation='relu'))\n",
        "model.add(Dense(8, input_dim=4, activation='relu'))\n",
        "model.add(Dense(1, activation='sigmoid'))"
      ],
      "metadata": {
        "id": "qcIpGMfpsAAS"
      },
      "execution_count": 8,
      "outputs": []
    },
    {
      "cell_type": "markdown",
      "source": [
        "## 3) Compile the model"
      ],
      "metadata": {
        "id": "A1yEWh_IrAuO"
      }
    },
    {
      "cell_type": "code",
      "source": [
        "model.compile(loss='binary_crossentropy', \n",
        "              optimizer='adam', \n",
        "              metrics=['accuracy'])"
      ],
      "metadata": {
        "id": "8IbDeqmGsuJU"
      },
      "execution_count": 9,
      "outputs": []
    },
    {
      "cell_type": "markdown",
      "source": [
        "## 4) fit the model using 100 epochs and batch size = 20"
      ],
      "metadata": {
        "id": "8TEXeQIWrCs_"
      }
    },
    {
      "cell_type": "code",
      "source": [
        "history = model.fit(X, y, epochs=100, batch_size=20)"
      ],
      "metadata": {
        "colab": {
          "base_uri": "https://localhost:8080/"
        },
        "id": "4yFa-hY0syIS",
        "outputId": "0515e20d-d089-43db-e367-4fbe1129578b"
      },
      "execution_count": 10,
      "outputs": [
        {
          "output_type": "stream",
          "name": "stdout",
          "text": [
            "Epoch 1/100\n",
            "39/39 [==============================] - 1s 2ms/step - loss: 3.6145 - accuracy: 0.6010\n",
            "Epoch 2/100\n",
            "39/39 [==============================] - 0s 2ms/step - loss: 1.1658 - accuracy: 0.6010\n",
            "Epoch 3/100\n",
            "39/39 [==============================] - 0s 2ms/step - loss: 0.8084 - accuracy: 0.6323\n",
            "Epoch 4/100\n",
            "39/39 [==============================] - 0s 2ms/step - loss: 0.7238 - accuracy: 0.6076\n",
            "Epoch 5/100\n",
            "39/39 [==============================] - 0s 2ms/step - loss: 0.6980 - accuracy: 0.6506\n",
            "Epoch 6/100\n",
            "39/39 [==============================] - 0s 2ms/step - loss: 0.6941 - accuracy: 0.6415\n",
            "Epoch 7/100\n",
            "39/39 [==============================] - 0s 2ms/step - loss: 0.6706 - accuracy: 0.6480\n",
            "Epoch 8/100\n",
            "39/39 [==============================] - 0s 2ms/step - loss: 0.6728 - accuracy: 0.6545\n",
            "Epoch 9/100\n",
            "39/39 [==============================] - 0s 2ms/step - loss: 0.6592 - accuracy: 0.6519\n",
            "Epoch 10/100\n",
            "39/39 [==============================] - 0s 2ms/step - loss: 0.6637 - accuracy: 0.6545\n",
            "Epoch 11/100\n",
            "39/39 [==============================] - 0s 2ms/step - loss: 0.6650 - accuracy: 0.6493\n",
            "Epoch 12/100\n",
            "39/39 [==============================] - 0s 2ms/step - loss: 0.6454 - accuracy: 0.6623\n",
            "Epoch 13/100\n",
            "39/39 [==============================] - 0s 2ms/step - loss: 0.6381 - accuracy: 0.6688\n",
            "Epoch 14/100\n",
            "39/39 [==============================] - 0s 2ms/step - loss: 0.6448 - accuracy: 0.6728\n",
            "Epoch 15/100\n",
            "39/39 [==============================] - 0s 2ms/step - loss: 0.6347 - accuracy: 0.6688\n",
            "Epoch 16/100\n",
            "39/39 [==============================] - 0s 2ms/step - loss: 0.6290 - accuracy: 0.6636\n",
            "Epoch 17/100\n",
            "39/39 [==============================] - 0s 2ms/step - loss: 0.6313 - accuracy: 0.6597\n",
            "Epoch 18/100\n",
            "39/39 [==============================] - 0s 2ms/step - loss: 0.6273 - accuracy: 0.6714\n",
            "Epoch 19/100\n",
            "39/39 [==============================] - 0s 2ms/step - loss: 0.6263 - accuracy: 0.6754\n",
            "Epoch 20/100\n",
            "39/39 [==============================] - 0s 2ms/step - loss: 0.6211 - accuracy: 0.6819\n",
            "Epoch 21/100\n",
            "39/39 [==============================] - 0s 2ms/step - loss: 0.6199 - accuracy: 0.6741\n",
            "Epoch 22/100\n",
            "39/39 [==============================] - 0s 2ms/step - loss: 0.6140 - accuracy: 0.6858\n",
            "Epoch 23/100\n",
            "39/39 [==============================] - 0s 2ms/step - loss: 0.6189 - accuracy: 0.6728\n",
            "Epoch 24/100\n",
            "39/39 [==============================] - 0s 2ms/step - loss: 0.6193 - accuracy: 0.6728\n",
            "Epoch 25/100\n",
            "39/39 [==============================] - 0s 2ms/step - loss: 0.6296 - accuracy: 0.6558\n",
            "Epoch 26/100\n",
            "39/39 [==============================] - 0s 2ms/step - loss: 0.6281 - accuracy: 0.6741\n",
            "Epoch 27/100\n",
            "39/39 [==============================] - 0s 2ms/step - loss: 0.6116 - accuracy: 0.6767\n",
            "Epoch 28/100\n",
            "39/39 [==============================] - 0s 2ms/step - loss: 0.6135 - accuracy: 0.6832\n",
            "Epoch 29/100\n",
            "39/39 [==============================] - 0s 2ms/step - loss: 0.6101 - accuracy: 0.6793\n",
            "Epoch 30/100\n",
            "39/39 [==============================] - 0s 2ms/step - loss: 0.6125 - accuracy: 0.6767\n",
            "Epoch 31/100\n",
            "39/39 [==============================] - 0s 2ms/step - loss: 0.6065 - accuracy: 0.6871\n",
            "Epoch 32/100\n",
            "39/39 [==============================] - 0s 2ms/step - loss: 0.6087 - accuracy: 0.6780\n",
            "Epoch 33/100\n",
            "39/39 [==============================] - 0s 2ms/step - loss: 0.6081 - accuracy: 0.6728\n",
            "Epoch 34/100\n",
            "39/39 [==============================] - 0s 2ms/step - loss: 0.6011 - accuracy: 0.6741\n",
            "Epoch 35/100\n",
            "39/39 [==============================] - 0s 2ms/step - loss: 0.5988 - accuracy: 0.6871\n",
            "Epoch 36/100\n",
            "39/39 [==============================] - 0s 2ms/step - loss: 0.5991 - accuracy: 0.6923\n",
            "Epoch 37/100\n",
            "39/39 [==============================] - 0s 2ms/step - loss: 0.5981 - accuracy: 0.6780\n",
            "Epoch 38/100\n",
            "39/39 [==============================] - 0s 2ms/step - loss: 0.5971 - accuracy: 0.6845\n",
            "Epoch 39/100\n",
            "39/39 [==============================] - 0s 2ms/step - loss: 0.5979 - accuracy: 0.6871\n",
            "Epoch 40/100\n",
            "39/39 [==============================] - 0s 2ms/step - loss: 0.5942 - accuracy: 0.6884\n",
            "Epoch 41/100\n",
            "39/39 [==============================] - 0s 2ms/step - loss: 0.5967 - accuracy: 0.6819\n",
            "Epoch 42/100\n",
            "39/39 [==============================] - 0s 2ms/step - loss: 0.5954 - accuracy: 0.6832\n",
            "Epoch 43/100\n",
            "39/39 [==============================] - 0s 2ms/step - loss: 0.5884 - accuracy: 0.6923\n",
            "Epoch 44/100\n",
            "39/39 [==============================] - 0s 2ms/step - loss: 0.5934 - accuracy: 0.6832\n",
            "Epoch 45/100\n",
            "39/39 [==============================] - 0s 2ms/step - loss: 0.6101 - accuracy: 0.6688\n",
            "Epoch 46/100\n",
            "39/39 [==============================] - 0s 2ms/step - loss: 0.5931 - accuracy: 0.6767\n",
            "Epoch 47/100\n",
            "39/39 [==============================] - 0s 2ms/step - loss: 0.5893 - accuracy: 0.6858\n",
            "Epoch 48/100\n",
            "39/39 [==============================] - 0s 2ms/step - loss: 0.5888 - accuracy: 0.6871\n",
            "Epoch 49/100\n",
            "39/39 [==============================] - 0s 2ms/step - loss: 0.5886 - accuracy: 0.6858\n",
            "Epoch 50/100\n",
            "39/39 [==============================] - 0s 2ms/step - loss: 0.5867 - accuracy: 0.6897\n",
            "Epoch 51/100\n",
            "39/39 [==============================] - 0s 2ms/step - loss: 0.5862 - accuracy: 0.6780\n",
            "Epoch 52/100\n",
            "39/39 [==============================] - 0s 2ms/step - loss: 0.5867 - accuracy: 0.6819\n",
            "Epoch 53/100\n",
            "39/39 [==============================] - 0s 2ms/step - loss: 0.5812 - accuracy: 0.6832\n",
            "Epoch 54/100\n",
            "39/39 [==============================] - 0s 2ms/step - loss: 0.5834 - accuracy: 0.6884\n",
            "Epoch 55/100\n",
            "39/39 [==============================] - 0s 2ms/step - loss: 0.5905 - accuracy: 0.6832\n",
            "Epoch 56/100\n",
            "39/39 [==============================] - 0s 2ms/step - loss: 0.5788 - accuracy: 0.6858\n",
            "Epoch 57/100\n",
            "39/39 [==============================] - 0s 2ms/step - loss: 0.5933 - accuracy: 0.6741\n",
            "Epoch 58/100\n",
            "39/39 [==============================] - 0s 2ms/step - loss: 0.5811 - accuracy: 0.6845\n",
            "Epoch 59/100\n",
            "39/39 [==============================] - 0s 2ms/step - loss: 0.5847 - accuracy: 0.6714\n",
            "Epoch 60/100\n",
            "39/39 [==============================] - 0s 2ms/step - loss: 0.5893 - accuracy: 0.6754\n",
            "Epoch 61/100\n",
            "39/39 [==============================] - 0s 2ms/step - loss: 0.5840 - accuracy: 0.6858\n",
            "Epoch 62/100\n",
            "39/39 [==============================] - 0s 2ms/step - loss: 0.5868 - accuracy: 0.6793\n",
            "Epoch 63/100\n",
            "39/39 [==============================] - 0s 2ms/step - loss: 0.5809 - accuracy: 0.6910\n",
            "Epoch 64/100\n",
            "39/39 [==============================] - 0s 2ms/step - loss: 0.5803 - accuracy: 0.6806\n",
            "Epoch 65/100\n",
            "39/39 [==============================] - 0s 2ms/step - loss: 0.5805 - accuracy: 0.6780\n",
            "Epoch 66/100\n",
            "39/39 [==============================] - 0s 2ms/step - loss: 0.5756 - accuracy: 0.6793\n",
            "Epoch 67/100\n",
            "39/39 [==============================] - 0s 2ms/step - loss: 0.5760 - accuracy: 0.6845\n",
            "Epoch 68/100\n",
            "39/39 [==============================] - 0s 2ms/step - loss: 0.5819 - accuracy: 0.6884\n",
            "Epoch 69/100\n",
            "39/39 [==============================] - 0s 2ms/step - loss: 0.5764 - accuracy: 0.6962\n",
            "Epoch 70/100\n",
            "39/39 [==============================] - 0s 2ms/step - loss: 0.5839 - accuracy: 0.6845\n",
            "Epoch 71/100\n",
            "39/39 [==============================] - 0s 2ms/step - loss: 0.5739 - accuracy: 0.6884\n",
            "Epoch 72/100\n",
            "39/39 [==============================] - 0s 2ms/step - loss: 0.5925 - accuracy: 0.6728\n",
            "Epoch 73/100\n",
            "39/39 [==============================] - 0s 2ms/step - loss: 0.5766 - accuracy: 0.6923\n",
            "Epoch 74/100\n",
            "39/39 [==============================] - 0s 2ms/step - loss: 0.5737 - accuracy: 0.6793\n",
            "Epoch 75/100\n",
            "39/39 [==============================] - 0s 2ms/step - loss: 0.5736 - accuracy: 0.6936\n",
            "Epoch 76/100\n",
            "39/39 [==============================] - 0s 2ms/step - loss: 0.5799 - accuracy: 0.6832\n",
            "Epoch 77/100\n",
            "39/39 [==============================] - 0s 2ms/step - loss: 0.5751 - accuracy: 0.6871\n",
            "Epoch 78/100\n",
            "39/39 [==============================] - 0s 2ms/step - loss: 0.5831 - accuracy: 0.6806\n",
            "Epoch 79/100\n",
            "39/39 [==============================] - 0s 2ms/step - loss: 0.5877 - accuracy: 0.6858\n",
            "Epoch 80/100\n",
            "39/39 [==============================] - 0s 2ms/step - loss: 0.5723 - accuracy: 0.6858\n",
            "Epoch 81/100\n",
            "39/39 [==============================] - 0s 2ms/step - loss: 0.5716 - accuracy: 0.6975\n",
            "Epoch 82/100\n",
            "39/39 [==============================] - 0s 2ms/step - loss: 0.5683 - accuracy: 0.6910\n",
            "Epoch 83/100\n",
            "39/39 [==============================] - 0s 2ms/step - loss: 0.5693 - accuracy: 0.6936\n",
            "Epoch 84/100\n",
            "39/39 [==============================] - 0s 2ms/step - loss: 0.5704 - accuracy: 0.6910\n",
            "Epoch 85/100\n",
            "39/39 [==============================] - 0s 2ms/step - loss: 0.5696 - accuracy: 0.6975\n",
            "Epoch 86/100\n",
            "39/39 [==============================] - 0s 2ms/step - loss: 0.5662 - accuracy: 0.7001\n",
            "Epoch 87/100\n",
            "39/39 [==============================] - 0s 2ms/step - loss: 0.5754 - accuracy: 0.6884\n",
            "Epoch 88/100\n",
            "39/39 [==============================] - 0s 2ms/step - loss: 0.5694 - accuracy: 0.6988\n",
            "Epoch 89/100\n",
            "39/39 [==============================] - 0s 2ms/step - loss: 0.5658 - accuracy: 0.6962\n",
            "Epoch 90/100\n",
            "39/39 [==============================] - 0s 2ms/step - loss: 0.5741 - accuracy: 0.6858\n",
            "Epoch 91/100\n",
            "39/39 [==============================] - 0s 2ms/step - loss: 0.5675 - accuracy: 0.7001\n",
            "Epoch 92/100\n",
            "39/39 [==============================] - 0s 2ms/step - loss: 0.5762 - accuracy: 0.6988\n",
            "Epoch 93/100\n",
            "39/39 [==============================] - 0s 2ms/step - loss: 0.5660 - accuracy: 0.6975\n",
            "Epoch 94/100\n",
            "39/39 [==============================] - 0s 2ms/step - loss: 0.5684 - accuracy: 0.6910\n",
            "Epoch 95/100\n",
            "39/39 [==============================] - 0s 2ms/step - loss: 0.5654 - accuracy: 0.6936\n",
            "Epoch 96/100\n",
            "39/39 [==============================] - 0s 2ms/step - loss: 0.5661 - accuracy: 0.6832\n",
            "Epoch 97/100\n",
            "39/39 [==============================] - 0s 2ms/step - loss: 0.5616 - accuracy: 0.6962\n",
            "Epoch 98/100\n",
            "39/39 [==============================] - 0s 2ms/step - loss: 0.5678 - accuracy: 0.6949\n",
            "Epoch 99/100\n",
            "39/39 [==============================] - 0s 2ms/step - loss: 0.5697 - accuracy: 0.7027\n",
            "Epoch 100/100\n",
            "39/39 [==============================] - 0s 2ms/step - loss: 0.5665 - accuracy: 0.7014\n"
          ]
        }
      ]
    },
    {
      "cell_type": "markdown",
      "source": [
        "## 5) evaluate the model"
      ],
      "metadata": {
        "id": "oj-3wSUprF44"
      }
    },
    {
      "cell_type": "code",
      "source": [
        "loss , accuracy = model.evaluate(X, y)\n",
        "print('Accuracy: %.2f ' % (accuracy*100))\n",
        "print('Loss: %.2f ' % (loss))"
      ],
      "metadata": {
        "colab": {
          "base_uri": "https://localhost:8080/"
        },
        "id": "PQmZLOvytQlL",
        "outputId": "634d6e9c-803b-4ab7-d052-177584404321"
      },
      "execution_count": 11,
      "outputs": [
        {
          "output_type": "stream",
          "name": "stdout",
          "text": [
            "24/24 [==============================] - 0s 2ms/step - loss: 0.5705 - accuracy: 0.6949\n",
            "Accuracy: 69.49 \n",
            "Loss: 0.57 \n"
          ]
        }
      ]
    },
    {
      "cell_type": "markdown",
      "source": [
        "## 6) Plot the accuracy and loss of the model"
      ],
      "metadata": {
        "id": "SgcwMSV6rKfN"
      }
    },
    {
      "cell_type": "code",
      "source": [
        "# Model Accuracy\n",
        "plt.plot(history.history['accuracy'])\n",
        "plt.title('Model Accuracy')\n",
        "plt.ylabel('accuracy')\n",
        "plt.show()\n",
        "# Model Loss\n",
        "plt.plot(history.history['loss'])\n",
        "plt.title('Model Loss')\n",
        "plt.ylabel('loss')\n",
        "plt.show()"
      ],
      "metadata": {
        "colab": {
          "base_uri": "https://localhost:8080/",
          "height": 545
        },
        "id": "iyC_L1IjREHY",
        "outputId": "05154aed-0f8b-41d3-8d81-4a7ee3d51bb9"
      },
      "execution_count": 12,
      "outputs": [
        {
          "output_type": "display_data",
          "data": {
            "text/plain": [
              "<Figure size 432x288 with 1 Axes>"
            ],
            "image/png": "[encoded data removed]"
          },
          "metadata": {
            "needs_background": "light"
          }
        },
        {
          "output_type": "display_data",
          "data": {
            "text/plain": [
              "<Figure size 432x288 with 1 Axes>"
            ],
            "image/png": "[encoded data removed]"
          },
          "metadata": {
            "needs_background": "light"
          }
        }
      ]
    }
  ]
}